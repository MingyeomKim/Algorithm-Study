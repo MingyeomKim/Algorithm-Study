{
 "cells": [
  {
   "cell_type": "code",
   "execution_count": 19,
   "metadata": {},
   "outputs": [
    {
     "name": "stdout",
     "output_type": "stream",
     "text": [
      "4 4 1 1\n",
      "1 2\n",
      "1 3\n",
      "2 3\n",
      "2 4\n",
      "2\n",
      "3\n"
     ]
    }
   ],
   "source": [
    "from collections import deque\n",
    "import sys\n",
    "\n",
    "n, m, k, x = map(int, input().split(' '))\n",
    "graph = [[] for _ in range(n+1)]\n",
    "for _ in range(m):\n",
    "    a, b = map(int, input().split(' '))\n",
    "    graph[a].append(b)\n",
    "    \n",
    "dist = 0\n",
    "q = deque()\n",
    "q.append([x])\n",
    "searched = set()\n",
    "searched.add(x)\n",
    "checked_node_cnt = 0\n",
    "while q:\n",
    "    nodes = q.popleft()\n",
    "    nodelist = []\n",
    "    for node in nodes:\n",
    "        for neighbor_node in graph[node]:\n",
    "            if neighbor_node not in searched:\n",
    "                nodelist.append(neighbor_node)\n",
    "                searched.add(neighbor_node)\n",
    "    q.append(nodelist)\n",
    "    dist += 1\n",
    "    if dist == k:\n",
    "        break\n",
    "        \n",
    "if len(nodelist) == 0:\n",
    "    print(-1)\n",
    "else:\n",
    "    for i in sorted(nodelist):\n",
    "        print(i)\n",
    "    \n"
   ]
  },
  {
   "cell_type": "code",
   "execution_count": 6,
   "metadata": {},
   "outputs": [],
   "source": [
    "from collections import deque\n",
    "a = deque()\n",
    "b = [1]\n",
    "a.append(b)"
   ]
  },
  {
   "cell_type": "code",
   "execution_count": 10,
   "metadata": {},
   "outputs": [
    {
     "data": {
      "text/plain": [
       "[4]"
      ]
     },
     "execution_count": 10,
     "metadata": {},
     "output_type": "execute_result"
    }
   ],
   "source": [
    "nodelist"
   ]
  },
  {
   "cell_type": "code",
   "execution_count": 17,
   "metadata": {},
   "outputs": [
    {
     "data": {
      "text/plain": [
       "[2, 3, 4, 5]"
      ]
     },
     "execution_count": 17,
     "metadata": {},
     "output_type": "execute_result"
    }
   ],
   "source": [
    "a = [3, 5, 2, 4]\n",
    "sorted(a)"
   ]
  },
  {
   "cell_type": "code",
   "execution_count": null,
   "metadata": {},
   "outputs": [],
   "source": []
  }
 ],
 "metadata": {
  "kernelspec": {
   "display_name": "Python 3",
   "language": "python",
   "name": "python3"
  },
  "language_info": {
   "codemirror_mode": {
    "name": "ipython",
    "version": 3
   },
   "file_extension": ".py",
   "mimetype": "text/x-python",
   "name": "python",
   "nbconvert_exporter": "python",
   "pygments_lexer": "ipython3",
   "version": "3.8.3"
  }
 },
 "nbformat": 4,
 "nbformat_minor": 4
}
